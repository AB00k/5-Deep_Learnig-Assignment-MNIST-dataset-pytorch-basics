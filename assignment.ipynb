{
 "cells": [
  {
   "cell_type": "markdown",
   "metadata": {},
   "source": [
    "# Assignment 1"
   ]
  },
  {
   "cell_type": "markdown",
   "metadata": {},
   "source": [
    "## Import Libraries"
   ]
  },
  {
   "cell_type": "markdown",
   "metadata": {
    "id": "GI0iOY8zvZzL"
   },
   "source": [
    "\n",
    "We will import Relevant libraries which will be use for our porject."
   ]
  },
  {
   "cell_type": "code",
   "execution_count": 1,
   "metadata": {
    "id": "nR4ebtbJf-1P"
   },
   "outputs": [],
   "source": [
    "import torch\n",
    "import matplotlib.pyplot as plt\n",
    "import seaborn as sns\n",
    "import pandas as pd\n",
    "import copy\n",
    "import math\n",
    "import os\n",
    "import numpy as np\n",
    "from torch.autograd import Variable\n",
    "from tqdm import tqdm\n",
    "import torch.nn as nn\n",
    "from pathlib import Path\n",
    "from PIL import Image\n",
    "from mlxtend.plotting import plot_confusion_matrix\n",
    "from sklearn.metrics import confusion_matrix \n",
    "from sklearn.metrics import classification_report\n",
    "from sklearn import model_selection\n",
    "from torch import nn\n",
    "from torch import optim\n",
    "import torch.nn.functional as F\n",
    "from torchvision import datasets, transforms\n",
    "from torch.utils.data import Dataset, DataLoader\n",
    "%matplotlib inline\n",
    "sns.set_style('whitegrid')"
   ]
  },
  {
   "cell_type": "code",
   "execution_count": 2,
   "metadata": {},
   "outputs": [],
   "source": [
    "# for ignoring warnings\n",
    "import warnings\n",
    "warnings.filterwarnings(\"ignore\")"
   ]
  },
  {
   "cell_type": "markdown",
   "metadata": {
    "id": "cqG7FzRVFEIv"
   },
   "source": [
    "## Checking Device\n",
    "Set the Device to GPU or CPU."
   ]
  },
  {
   "cell_type": "code",
   "execution_count": 3,
   "metadata": {
    "colab": {
     "base_uri": "https://localhost:8080/"
    },
    "id": "oYsV4H8fCpZ-",
    "outputId": "5e7d9f28-2970-4e7e-ba63-9a1fb3020ece"
   },
   "outputs": [
    {
     "name": "stdout",
     "output_type": "stream",
     "text": [
      "There are 1 GPU(s) available.\n",
      "We will use the GPU: NVIDIA GeForce RTX 2060 with Max-Q Design\n"
     ]
    }
   ],
   "source": [
    "# Check If the a GPU is available\n",
    "if torch.cuda.is_available():    \n",
    "    # Tell PyTorch to use the GPU.    \n",
    "    device = torch.device(\"cuda\")\n",
    "    print('There are %d GPU(s) available.' % torch.cuda.device_count())\n",
    "    print('We will use the GPU:', torch.cuda.get_device_name(0))\n",
    "else:\n",
    "    print('GPU is not available, using the CPU instead.')\n",
    "    device = torch.device(\"cpu\")"
   ]
  },
  {
   "cell_type": "markdown",
   "metadata": {},
   "source": [
    "# Steps:\n",
    "## 1. Data loading and normalization"
   ]
  },
  {
   "cell_type": "code",
   "execution_count": 4,
   "metadata": {},
   "outputs": [],
   "source": [
    "transformation = transforms.Compose([transforms.Resize(30),\n",
    "                                       transforms.CenterCrop(28),\n",
    "                                       transforms.Grayscale(),\n",
    "                                       transforms.ToTensor(),\n",
    "                                       transforms.Normalize((0.1307,), (0.3081,))])"
   ]
  },
  {
   "cell_type": "code",
   "execution_count": 5,
   "metadata": {},
   "outputs": [],
   "source": [
    "def loadDataset(data_path,train_size, train_batch_size, val_batch_size, shuffle):\n",
    "    \n",
    "    train_data = datasets.ImageFolder(data_path + 'train', transform = transformation)\n",
    "    test_data = datasets.ImageFolder(data_path + 'test', transform = transformation)\n",
    "    # diving dataset\n",
    "    size = len(train_data)\n",
    "    val_size = 1 - train_size\n",
    "    # split train_data into train and val data randomly\n",
    "    train_data, val_data = torch.utils.data.random_split(train_data, [math.ceil(size * train_size), math.ceil(size * val_size)])\n",
    "    \n",
    "    print(\"Training Images : \",len(train_data), \"Validation Images\",len(val_data), \"Testing Images\",len(test_data))\n",
    "    train_loader = DataLoader(train_data,\n",
    "                          batch_size=train_batch_size,\n",
    "                          shuffle=shuffle,\n",
    "                          num_workers=NUM_WORKERS)\n",
    "    \n",
    "    val_loader = DataLoader(val_data,\n",
    "                          batch_size = val_batch_size,\n",
    "                          shuffle = shuffle,\n",
    "                          num_workers=NUM_WORKERS)\n",
    "    \n",
    "    test_loader = DataLoader(test_data,\n",
    "                             batch_size=val_batch_size,\n",
    "                             shuffle=shuffle, # it should be false for testing\n",
    "                             num_workers=NUM_WORKERS)\n",
    "    return train_loader, val_loader, test_loader"
   ]
  },
  {
   "cell_type": "markdown",
   "metadata": {},
   "source": [
    "## 2. Initialize Network"
   ]
  },
  {
   "cell_type": "code",
   "execution_count": 6,
   "metadata": {},
   "outputs": [],
   "source": [
    "class init_network(nn.Module):\n",
    "    \n",
    "    # Constructor\n",
    "    def __init__(self, no_of_layers, input_dim, neurons_per_layer, dropout):\n",
    "        super(init_network, self).__init__()\n",
    "        # adding input layer infornt of list so i can use modulelist\n",
    "        neurons_per_layer.insert(0,input_dim)\n",
    "        self.hidden = nn.ModuleList()\n",
    "        self.drop_layer = nn.Dropout(p=dropout)\n",
    "        for input_size, output_size in zip(neurons_per_layer, neurons_per_layer[1:]):\n",
    "            self.hidden.append(nn.Linear(input_size, output_size))\n",
    "\n",
    "    # Prediction\n",
    "    def forward(self, x):\n",
    "        L = len(self.hidden)\n",
    "        \n",
    "        for (l, linear_transform) in zip(range(L), self.hidden):\n",
    "            \n",
    "            if l < L - 1:\n",
    "                x = F.relu(linear_transform(x))\n",
    "                x = self.drop_layer(x)\n",
    "            else:\n",
    "                x = linear_transform(x)\n",
    "                x = F.log_softmax(x,dim=1)\n",
    "                \n",
    "        return x"
   ]
  },
  {
   "cell_type": "markdown",
   "metadata": {},
   "source": [
    "## 3. Training and Save Best Model"
   ]
  },
  {
   "cell_type": "markdown",
   "metadata": {},
   "source": [
    "#### 3.1 Plot Graph"
   ]
  },
  {
   "cell_type": "code",
   "execution_count": 7,
   "metadata": {},
   "outputs": [],
   "source": [
    "# this function will plot the accuracy and loss graph of training and validation\n",
    "def plot_loss_and_accuracy_curves(history):\n",
    "    fig, ax = plt.subplots(1, 2, figsize=(20, 5))\n",
    "\n",
    "    ax[0].plot(history['train_accuracy'], color='royalblue', label='Train Accuracy')\n",
    "    ax[0].plot(history['val_accuracy'], color='darkred', label='Validation Accuracy')\n",
    "\n",
    "    ax[0].set_xlabel('Epochs')\n",
    "    ax[0].set_ylabel('Accuracy')\n",
    "    ax[0].set_title('Training and Validation Accuracy')\n",
    "    ax[0].legend()\n",
    "\n",
    "    ax[1].plot(history['train_loss'], color='royalblue', label='Train Loss')\n",
    "    ax[1].plot(history['val_loss'], color='darkred', label='Validation Loss')\n",
    "\n",
    "    ax[1].set_xlabel('Epochs')\n",
    "    ax[1].set_ylabel('Cross Entropy Loss')\n",
    "    ax[1].set_title('Training and Validation Losses')\n",
    "    ax[1].legend()\n",
    "    plt.show()"
   ]
  },
  {
   "cell_type": "markdown",
   "metadata": {},
   "source": [
    "#### 3.2 Save model"
   ]
  },
  {
   "cell_type": "code",
   "execution_count": 8,
   "metadata": {},
   "outputs": [],
   "source": [
    "def save_checkpoint(state, save):\n",
    "    filename = os.path.join(save, 'model_best.pth.tar')\n",
    "    torch.save(state, filename)"
   ]
  },
  {
   "cell_type": "markdown",
   "metadata": {},
   "source": [
    "#### 3.3 Train model and Save Best Model"
   ]
  },
  {
   "cell_type": "code",
   "execution_count": 9,
   "metadata": {},
   "outputs": [],
   "source": [
    "def train(model, criterion, optimizer, train_loader, validation_loader, model_save_name, epochs=5):\n",
    "    \n",
    "    # create the Models folder if it's not exit\n",
    "    Path(models_path).mkdir(parents=True, exist_ok=True)\n",
    "    \n",
    "    # loading the model into device i.e cpu or gpu\n",
    "    model.to(device)\n",
    "    # making a copy of model\n",
    "    best_model = copy.deepcopy(model)\n",
    "    # Defining the history\n",
    "    history = {'train_loss': [], 'val_loss': [], 'train_accuracy': [], 'val_accuracy': [],\n",
    "                   'epochs': 0, 'best_val_accuracy': -np.inf, 'min_val_loss': np.inf}\n",
    "\n",
    "    # defining the variable we will use during the training\n",
    "    best_val_accuracy = history['best_val_accuracy']\n",
    "    min_val_loss = history['min_val_loss']\n",
    "\n",
    "    for epoch in range(0, epochs):  # loop over the dataset multiple times\n",
    "\n",
    "        train_loss = 0.0\n",
    "        val_loss = 0.0\n",
    "\n",
    "        train_accuracy = 0.0\n",
    "        val_accuracy = 0.0\n",
    "\n",
    "        correct = 0\n",
    "        # setting the model in training mode\n",
    "        model.train()\n",
    "        # defining the tqdm for displaying the results after every epoch\n",
    "        outer = tqdm(total=len(train_loader.dataset), desc='Train Epoch: %s / %s' % (epoch + 1, epochs),\n",
    "                     position=0, leave=True)\n",
    "\n",
    "        # iterate over train loader\n",
    "        for inputs, classes in train_loader:\n",
    "            # loading the inputs and outputs into device\n",
    "            inputs, classes = inputs.to(device), classes.to(device)\n",
    "\n",
    "            # zero the parameter gradients\n",
    "            optimizer.zero_grad()\n",
    "\n",
    "            # forward + backward + optimize\n",
    "            outputs = model(inputs.view(-1, 28 * 28))  # ----> forward pass\n",
    "            loss = criterion(outputs, classes)  # ----> compute loss\n",
    "\n",
    "            loss.backward()  # ----> backward pass\n",
    "            optimizer.step()  # ----> weights update\n",
    "\n",
    "            # total train loss\n",
    "            train_loss += loss.item()\n",
    "            # getting the predicted classes\n",
    "            _, predicted = torch.max(outputs.data, 1)\n",
    "            # comparing the predicted classes with actual classes\n",
    "            correct += (predicted == classes).sum().item()\n",
    "            # update tqdm\n",
    "            outer.update(len(inputs))\n",
    "        outer.close()\n",
    "        # train accuracy and loss\n",
    "        train_accuracy = correct / len(train_loader.dataset)\n",
    "        train_loss = train_loss / len(train_loader)\n",
    "\n",
    "        # Val loss and accuracy\n",
    "        with torch.no_grad():\n",
    "            correct = 0\n",
    "            # setting model to Evaluation\n",
    "            model.eval()\n",
    "\n",
    "            for inputs, classes in validation_loader:\n",
    "                inputs, classes = inputs.to(device), classes.to(device)\n",
    "                outputs = model(inputs.view(-1, 28 * 28))  # ----> forward pass\n",
    "\n",
    "                loss = criterion(outputs, classes)  # ----> compute loss\n",
    "                val_loss += loss.item()\n",
    "\n",
    "                _, predicted = torch.max(outputs.data, 1)\n",
    "                correct += (predicted == classes).sum().item()\n",
    "\n",
    "        val_accuracy = correct / len(validation_loader.dataset)\n",
    "        val_loss = val_loss / len(validation_loader)\n",
    "\n",
    "        # print statics using tqdm\n",
    "        epoch_log = tqdm(total=0, bar_format='{desc}', position=0, leave=True)\n",
    "        epoch_log.set_description_str(\n",
    "            'Train Loss: {:.6f} | Validation Loss: {:.6f} | '\n",
    "            'Train Accuracy: {:.2f} | Validation Accuracy: {:.2f}'.format(\n",
    "                train_loss, val_loss, train_accuracy, val_accuracy))\n",
    "        epoch_log.close()\n",
    "\n",
    "        # saving best model params for minimum validation loss during all epochs\n",
    "        if val_accuracy >= best_val_accuracy:\n",
    "            best_val_accuracy = val_accuracy\n",
    "            min_val_loss = val_loss\n",
    "            best_model.load_state_dict(model.state_dict())\n",
    "            save_checkpoint({'history': history, model_save_name:best_model.state_dict()},models_path)\n",
    "\n",
    "        # update history\n",
    "        history['epochs'] += 1\n",
    "        history['train_loss'].append(train_loss)\n",
    "        history['val_loss'].append(val_loss)\n",
    "        history['train_accuracy'].append(train_accuracy)\n",
    "        history['val_accuracy'].append(val_accuracy)\n",
    "        history['min_val_loss'] = min_val_loss\n",
    "        history['best_val_accuracy'] = best_val_accuracy\n",
    "\n",
    "    if device.type == 'cuda':\n",
    "        torch.cuda.empty_cache()\n",
    "\n",
    "    return history, best_model"
   ]
  },
  {
   "cell_type": "markdown",
   "metadata": {},
   "source": [
    "## 4. Load Network"
   ]
  },
  {
   "cell_type": "code",
   "execution_count": 10,
   "metadata": {},
   "outputs": [],
   "source": [
    "# this function will be use for loading pretrained model which we create during training.\n",
    "def load_model(model, path, model_name):\n",
    "    checkpoint = torch.load(path, map_location=torch.device('cpu'))\n",
    "    model.load_state_dict(checkpoint[model_name])\n",
    "    history = checkpoint['history']\n",
    "    return model, history"
   ]
  },
  {
   "cell_type": "markdown",
   "metadata": {},
   "source": [
    "## 5. Testing"
   ]
  },
  {
   "cell_type": "code",
   "execution_count": 11,
   "metadata": {},
   "outputs": [],
   "source": [
    "def imshow(img):\n",
    "    img = img\n",
    "    npimg = img.numpy()\n",
    "    plt.imshow(np.transpose(npimg, (1, 2, 0)))\n",
    "    plt.show()"
   ]
  },
  {
   "cell_type": "code",
   "execution_count": 12,
   "metadata": {},
   "outputs": [],
   "source": [
    "def test(model, data_loader, criterion):\n",
    "    y_pred = []\n",
    "    y_true = []\n",
    "    model.to(device)\n",
    "    model.eval()\n",
    "    test_loss = 0\n",
    "    with torch.no_grad():\n",
    "        for data in data_loader:\n",
    "            images_cpu, classes = data\n",
    "            images = images_cpu.to(device)\n",
    "            outputs = model(images.view(-1, 28 * 28))\n",
    "            # get the prediction class id\n",
    "            loss = criterion(outputs, classes.to(device))  # ----> compute loss\n",
    "            test_loss += loss.item()\n",
    "            _, predicted = torch.max(outputs.data, 1)\n",
    "            predicted = predicted.cpu().detach().numpy()\n",
    "            \n",
    "#             # For Expriment\n",
    "#             wrong_predictions = np.where(np.not_equal(predicted, classes))\n",
    "\n",
    "#             for wrong in wrong_predictions[0].tolist():\n",
    "#                 imshow(images_cpu[wrong])\n",
    "#                 print('Predicted Class : ',predicted[wrong])\n",
    "#                 print('Real Label : ', classes.numpy()[wrong])\n",
    "                \n",
    "            # append the predicted and label into list\n",
    "            y_pred.append(predicted)\n",
    "            y_true.append(classes)\n",
    "            \n",
    "    y_pred = np.concatenate(y_pred, axis=0)\n",
    "    y_true = np.concatenate(y_true, axis=0)\n",
    "    test_loss = test_loss / len(data_loader)\n",
    "    if device.type == 'cuda':\n",
    "        torch.cuda.empty_cache()\n",
    "    return y_pred, y_true, test_loss"
   ]
  },
  {
   "cell_type": "code",
   "execution_count": 13,
   "metadata": {},
   "outputs": [],
   "source": [
    "#### Accuracy Calculation for test"
   ]
  },
  {
   "cell_type": "code",
   "execution_count": 14,
   "metadata": {},
   "outputs": [],
   "source": [
    "def accuracy(y_pred, y_true):\n",
    "    return (y_pred == y_true).sum().item() / len(y_true)"
   ]
  },
  {
   "cell_type": "markdown",
   "metadata": {},
   "source": [
    "### 6. Visualize Results"
   ]
  },
  {
   "cell_type": "code",
   "execution_count": 15,
   "metadata": {},
   "outputs": [],
   "source": [
    "def Results(y_pred, y_true):\n",
    "    print(\"confusion_matrix : \")\n",
    "    cm = confusion_matrix(y_true,y_pred)\n",
    "    fig, ax = plot_confusion_matrix(conf_mat=cm)\n",
    "    plt.show()\n",
    "    print(\"classification_report : \")\n",
    "    print(classification_report(y_true,y_pred))"
   ]
  },
  {
   "cell_type": "markdown",
   "metadata": {},
   "source": [
    "### 7. Prediction on Single Image\n",
    "##### 7.1. Image Loading"
   ]
  },
  {
   "cell_type": "code",
   "execution_count": 16,
   "metadata": {},
   "outputs": [],
   "source": [
    "def image_loader(image_name):\n",
    "    \"\"\"load image, returns tensor\"\"\"\n",
    "    image = Image.open(image_name).convert('RGB') # load single image \n",
    "    plt.imshow(image)\n",
    "    image = transformation(image).float() # apply transformation\n",
    "    image = Variable(image, requires_grad=True) #Convert it to tensor\n",
    "    \n",
    "    # https://pytorch.org/docs/stable/generated/torch.unsqueeze.html\n",
    "    image = image.unsqueeze(0)   # adding extra dimmention. now shape is [1,3,150,150]\n",
    "    return image.to(device)  # load it device"
   ]
  },
  {
   "cell_type": "markdown",
   "metadata": {},
   "source": [
    "##### 7.2. Get prediction"
   ]
  },
  {
   "cell_type": "code",
   "execution_count": 17,
   "metadata": {},
   "outputs": [],
   "source": [
    "def getPredictedClass(image,model):\n",
    "\n",
    "    prediction = model(image.view(-1, 28 * 28))\n",
    "    _, predicted = torch.max(prediction, 1)\n",
    "    return predicted.cpu().detach().numpy()[0]"
   ]
  },
  {
   "cell_type": "markdown",
   "metadata": {},
   "source": [
    "## Main Function"
   ]
  },
  {
   "cell_type": "code",
   "execution_count": 18,
   "metadata": {},
   "outputs": [],
   "source": [
    "def main(data_path,train_size, train_batch_size, val_batch_size, shuffle,no_of_layers, input_dim, neurons_per_layer, dropout, criterion, LR, N_EPOCHS, is_training = False, Visualize_Results = False):\n",
    "    \n",
    "    print(\"Akmal Masud\")\n",
    "    print(\"Roll No : MSDS19062\")\n",
    "    # create dataset loaders\n",
    "    train_loader, val_loader, test_loader = loadDataset(data_path, train_size, train_batch_size, val_batch_size, shuffle)\n",
    "    \n",
    "    # define network\n",
    "    Net = init_network(no_of_layers, input_dim, neurons_per_layer,dropout)\n",
    "    # defining the optimizer\n",
    "    optimizer = optim.SGD(Net.parameters(), lr=LR, momentum=0.9)\n",
    "    # if training is true train the model else load train model\n",
    "    history = None\n",
    "    if is_training:\n",
    "        history, Net = train(model=Net,\n",
    "                                criterion=criterion,\n",
    "                                optimizer=optimizer,\n",
    "                                train_loader=train_loader,\n",
    "                                validation_loader=val_loader,\n",
    "                                model_save_name=model_name,\n",
    "                                epochs=N_EPOCHS)\n",
    "    else:\n",
    "        path = models_path + 'model_best.pth.tar'\n",
    "        if os.path.isfile(path):\n",
    "            Net, history = load_model(Net, path, model_name)\n",
    "    \n",
    "    # test on testing data\n",
    "    y_pred, y_true, test_loss = test(Net, test_loader, criterion=criterion)\n",
    "    \n",
    "    print('Test Loss is : ', test_loss)\n",
    "    print('Accuracy of the network on the {} test images: {:4.2f} %'.format(\n",
    "        len(test_loader.dataset), 100 * accuracy(y_pred, y_true)))\n",
    "    # plot graph of accuracy and loss it is true\n",
    "    if Visualize_Results:\n",
    "        if history !=None:\n",
    "            plot_loss_and_accuracy_curves(history)\n",
    "        Results(y_pred, y_true)\n",
    "        \n",
    "#         image_path = './dataset/test/0/1177.png'\n",
    "#         img = image_loader(image_path)\n",
    "#         output = getPredictedClass(img,Net)\n",
    "#         print(\"Predected Index : \", output)"
   ]
  },
  {
   "cell_type": "markdown",
   "metadata": {},
   "source": [
    "# Parameters"
   ]
  },
  {
   "cell_type": "code",
   "execution_count": 19,
   "metadata": {},
   "outputs": [],
   "source": [
    "train_batch_size = 32\n",
    "val_batch_size = 64\n",
    "NUM_WORKERS = 3\n",
    "LR = 0.001\n",
    "is_training = True\n",
    "Visualize_Results = True\n",
    "N_EPOCHS = 100\n",
    "train_size = 0.8\n",
    "shuffle = True\n",
    "no_of_layers = 2\n",
    "input_dim = 784\n",
    "neurons_per_layer = [128 ,10]\n",
    "dropout = 0.2\n",
    "\n",
    "models_path = './models/'\n",
    "data_path = './data/'\n",
    "model_name = 'minist_2.pth'\n",
    "criterion = nn.CrossEntropyLoss()"
   ]
  },
  {
   "cell_type": "code",
   "execution_count": 25,
   "metadata": {},
   "outputs": [
    {
     "name": "stderr",
     "output_type": "stream",
     "text": [
      "\r",
      "Train Epoch: 1 / 100:   0%|          | 0/720 [00:00<?, ?it/s]"
     ]
    },
    {
     "name": "stdout",
     "output_type": "stream",
     "text": [
      "Akmal Masud\n",
      "Roll No : MSDS19062\n",
      "Training Images :  720 Validation Images 180 Testing Images 240\n"
     ]
    },
    {
     "name": "stderr",
     "output_type": "stream",
     "text": [
      "Train Epoch: 1 / 100: 100%|██████████| 720/720 [00:01<00:00, 554.15it/s]\n",
      "Train Loss: 2.326076 | Validation Loss: 2.336694 | Train Accuracy: 0.10 | Validation Accuracy: 0.09\n",
      "Train Epoch: 2 / 100: 100%|██████████| 720/720 [00:01<00:00, 561.80it/s]\n",
      "Train Loss: 2.293543 | Validation Loss: 2.340734 | Train Accuracy: 0.13 | Validation Accuracy: 0.09\n",
      "Train Epoch: 3 / 100: 100%|██████████| 720/720 [00:01<00:00, 549.50it/s]\n",
      "Train Loss: 2.267320 | Validation Loss: 2.344133 | Train Accuracy: 0.14 | Validation Accuracy: 0.08\n",
      "Train Epoch: 4 / 100: 100%|██████████| 720/720 [00:01<00:00, 547.95it/s]\n",
      "Train Loss: 2.240128 | Validation Loss: 2.345031 | Train Accuracy: 0.19 | Validation Accuracy: 0.06\n",
      "Train Epoch: 5 / 100: 100%|██████████| 720/720 [00:01<00:00, 572.29it/s]\n",
      "Train Loss: 2.216726 | Validation Loss: 2.349047 | Train Accuracy: 0.20 | Validation Accuracy: 0.06\n",
      "Train Epoch: 6 / 100: 100%|██████████| 720/720 [00:01<00:00, 578.68it/s]\n",
      "Train Loss: 2.203891 | Validation Loss: 2.344461 | Train Accuracy: 0.20 | Validation Accuracy: 0.08\n",
      "Train Epoch: 7 / 100: 100%|██████████| 720/720 [00:01<00:00, 568.27it/s]\n",
      "Train Loss: 2.188831 | Validation Loss: 2.349550 | Train Accuracy: 0.23 | Validation Accuracy: 0.09\n",
      "Train Epoch: 8 / 100: 100%|██████████| 720/720 [00:01<00:00, 576.81it/s]\n",
      "Train Loss: 2.160430 | Validation Loss: 2.348389 | Train Accuracy: 0.24 | Validation Accuracy: 0.10\n",
      "Train Epoch: 9 / 100: 100%|██████████| 720/720 [00:01<00:00, 545.04it/s]\n",
      "Train Loss: 2.148461 | Validation Loss: 2.358418 | Train Accuracy: 0.25 | Validation Accuracy: 0.08\n",
      "Train Epoch: 10 / 100: 100%|██████████| 720/720 [00:01<00:00, 505.97it/s]\n",
      "Train Loss: 2.131666 | Validation Loss: 2.364203 | Train Accuracy: 0.28 | Validation Accuracy: 0.06\n",
      "Train Epoch: 11 / 100: 100%|██████████| 720/720 [00:01<00:00, 574.82it/s]\n",
      "Train Loss: 2.111696 | Validation Loss: 2.371250 | Train Accuracy: 0.28 | Validation Accuracy: 0.07\n",
      "Train Epoch: 12 / 100: 100%|██████████| 720/720 [00:01<00:00, 575.08it/s]\n",
      "Train Loss: 2.095061 | Validation Loss: 2.375783 | Train Accuracy: 0.28 | Validation Accuracy: 0.08\n",
      "Train Epoch: 13 / 100: 100%|██████████| 720/720 [00:01<00:00, 555.55it/s]\n",
      "Train Loss: 2.082317 | Validation Loss: 2.385285 | Train Accuracy: 0.29 | Validation Accuracy: 0.07\n",
      "Train Epoch: 14 / 100: 100%|██████████| 720/720 [00:01<00:00, 569.62it/s]\n",
      "Train Loss: 2.071975 | Validation Loss: 2.381466 | Train Accuracy: 0.28 | Validation Accuracy: 0.07\n",
      "Train Epoch: 15 / 100: 100%|██████████| 720/720 [00:01<00:00, 561.14it/s]\n",
      "Train Loss: 2.041060 | Validation Loss: 2.388693 | Train Accuracy: 0.31 | Validation Accuracy: 0.07\n",
      "Train Epoch: 16 / 100: 100%|██████████| 720/720 [00:01<00:00, 526.70it/s]\n",
      "Train Loss: 2.031979 | Validation Loss: 2.398644 | Train Accuracy: 0.31 | Validation Accuracy: 0.07\n",
      "Train Epoch: 17 / 100: 100%|██████████| 720/720 [00:01<00:00, 559.87it/s]\n",
      "Train Loss: 2.026597 | Validation Loss: 2.403094 | Train Accuracy: 0.31 | Validation Accuracy: 0.08\n",
      "Train Epoch: 18 / 100: 100%|██████████| 720/720 [00:01<00:00, 563.38it/s]\n",
      "Train Loss: 2.023724 | Validation Loss: 2.406405 | Train Accuracy: 0.32 | Validation Accuracy: 0.07\n",
      "Train Epoch: 19 / 100: 100%|██████████| 720/720 [00:01<00:00, 500.35it/s]\n",
      "Train Loss: 1.993642 | Validation Loss: 2.412008 | Train Accuracy: 0.33 | Validation Accuracy: 0.08\n",
      "Train Epoch: 20 / 100: 100%|██████████| 720/720 [00:01<00:00, 567.82it/s]\n",
      "Train Loss: 1.982465 | Validation Loss: 2.413061 | Train Accuracy: 0.33 | Validation Accuracy: 0.07\n",
      "Train Epoch: 21 / 100: 100%|██████████| 720/720 [00:01<00:00, 535.32it/s]\n",
      "Train Loss: 1.958479 | Validation Loss: 2.426427 | Train Accuracy: 0.34 | Validation Accuracy: 0.07\n",
      "Train Epoch: 22 / 100: 100%|██████████| 720/720 [00:01<00:00, 548.78it/s]\n",
      "Train Loss: 1.950446 | Validation Loss: 2.425387 | Train Accuracy: 0.35 | Validation Accuracy: 0.08\n",
      "Train Epoch: 23 / 100: 100%|██████████| 720/720 [00:01<00:00, 550.47it/s]\n",
      "Train Loss: 1.948109 | Validation Loss: 2.435147 | Train Accuracy: 0.35 | Validation Accuracy: 0.08\n",
      "Train Epoch: 24 / 100: 100%|██████████| 720/720 [00:01<00:00, 544.81it/s]\n",
      "Train Loss: 1.918474 | Validation Loss: 2.433155 | Train Accuracy: 0.36 | Validation Accuracy: 0.08\n",
      "Train Epoch: 25 / 100: 100%|██████████| 720/720 [00:01<00:00, 560.74it/s]\n",
      "Train Loss: 1.909788 | Validation Loss: 2.438810 | Train Accuracy: 0.33 | Validation Accuracy: 0.08\n",
      "Train Epoch: 26 / 100: 100%|██████████| 720/720 [00:01<00:00, 562.94it/s]\n",
      "Train Loss: 1.894532 | Validation Loss: 2.440828 | Train Accuracy: 0.38 | Validation Accuracy: 0.08\n",
      "Train Epoch: 27 / 100: 100%|██████████| 720/720 [00:01<00:00, 559.01it/s]\n",
      "Train Loss: 1.872564 | Validation Loss: 2.458925 | Train Accuracy: 0.39 | Validation Accuracy: 0.09\n",
      "Train Epoch: 28 / 100: 100%|██████████| 720/720 [00:01<00:00, 521.36it/s]\n",
      "Train Loss: 1.874646 | Validation Loss: 2.462826 | Train Accuracy: 0.37 | Validation Accuracy: 0.11\n",
      "Train Epoch: 29 / 100: 100%|██████████| 720/720 [00:01<00:00, 573.28it/s]\n",
      "Train Loss: 1.852434 | Validation Loss: 2.472861 | Train Accuracy: 0.41 | Validation Accuracy: 0.09\n",
      "Train Epoch: 30 / 100: 100%|██████████| 720/720 [00:01<00:00, 576.45it/s]\n",
      "Train Loss: 1.840210 | Validation Loss: 2.462560 | Train Accuracy: 0.40 | Validation Accuracy: 0.09\n",
      "Train Epoch: 31 / 100: 100%|██████████| 720/720 [00:01<00:00, 582.04it/s]\n",
      "Train Loss: 1.821078 | Validation Loss: 2.478819 | Train Accuracy: 0.41 | Validation Accuracy: 0.09\n",
      "Train Epoch: 32 / 100: 100%|██████████| 720/720 [00:01<00:00, 569.17it/s]\n",
      "Train Loss: 1.805711 | Validation Loss: 2.481414 | Train Accuracy: 0.42 | Validation Accuracy: 0.11\n",
      "Train Epoch: 33 / 100: 100%|██████████| 720/720 [00:01<00:00, 568.12it/s]\n",
      "Train Loss: 1.781034 | Validation Loss: 2.493518 | Train Accuracy: 0.43 | Validation Accuracy: 0.09\n",
      "Train Epoch: 34 / 100: 100%|██████████| 720/720 [00:01<00:00, 550.46it/s]\n",
      "Train Loss: 1.764929 | Validation Loss: 2.491163 | Train Accuracy: 0.43 | Validation Accuracy: 0.09\n",
      "Train Epoch: 35 / 100: 100%|██████████| 720/720 [00:01<00:00, 579.96it/s]\n",
      "Train Loss: 1.766527 | Validation Loss: 2.500306 | Train Accuracy: 0.44 | Validation Accuracy: 0.09\n",
      "Train Epoch: 36 / 100: 100%|██████████| 720/720 [00:01<00:00, 569.18it/s]\n",
      "Train Loss: 1.766452 | Validation Loss: 2.510852 | Train Accuracy: 0.43 | Validation Accuracy: 0.08\n",
      "Train Epoch: 37 / 100: 100%|██████████| 720/720 [00:01<00:00, 519.47it/s]\n",
      "Train Loss: 1.725388 | Validation Loss: 2.511628 | Train Accuracy: 0.45 | Validation Accuracy: 0.10\n",
      "Train Epoch: 38 / 100: 100%|██████████| 720/720 [00:01<00:00, 557.28it/s]\n",
      "Train Loss: 1.716444 | Validation Loss: 2.519524 | Train Accuracy: 0.46 | Validation Accuracy: 0.10\n",
      "Train Epoch: 39 / 100: 100%|██████████| 720/720 [00:01<00:00, 552.14it/s]\n",
      "Train Loss: 1.700710 | Validation Loss: 2.510806 | Train Accuracy: 0.46 | Validation Accuracy: 0.09\n",
      "Train Epoch: 40 / 100: 100%|██████████| 720/720 [00:01<00:00, 562.55it/s]\n",
      "Train Loss: 1.661014 | Validation Loss: 2.530011 | Train Accuracy: 0.48 | Validation Accuracy: 0.09\n",
      "Train Epoch: 41 / 100: 100%|██████████| 720/720 [00:01<00:00, 519.47it/s]\n",
      "Train Loss: 1.673701 | Validation Loss: 2.534443 | Train Accuracy: 0.47 | Validation Accuracy: 0.10\n",
      "Train Epoch: 42 / 100: 100%|██████████| 720/720 [00:01<00:00, 572.79it/s]\n",
      "Train Loss: 1.652627 | Validation Loss: 2.541070 | Train Accuracy: 0.51 | Validation Accuracy: 0.09\n",
      "Train Epoch: 43 / 100: 100%|██████████| 720/720 [00:01<00:00, 547.11it/s]\n",
      "Train Loss: 1.615843 | Validation Loss: 2.554301 | Train Accuracy: 0.50 | Validation Accuracy: 0.10\n",
      "Train Epoch: 44 / 100: 100%|██████████| 720/720 [00:01<00:00, 550.04it/s]\n",
      "Train Loss: 1.615829 | Validation Loss: 2.563869 | Train Accuracy: 0.51 | Validation Accuracy: 0.09\n",
      "Train Epoch: 45 / 100: 100%|██████████| 720/720 [00:01<00:00, 532.45it/s]\n",
      "Train Loss: 1.597378 | Validation Loss: 2.560938 | Train Accuracy: 0.50 | Validation Accuracy: 0.09\n",
      "Train Epoch: 46 / 100: 100%|██████████| 720/720 [00:01<00:00, 515.02it/s]\n",
      "Train Loss: 1.600931 | Validation Loss: 2.577842 | Train Accuracy: 0.50 | Validation Accuracy: 0.09\n",
      "Train Epoch: 47 / 100: 100%|██████████| 720/720 [00:01<00:00, 550.30it/s]\n",
      "Train Loss: 1.570937 | Validation Loss: 2.589391 | Train Accuracy: 0.52 | Validation Accuracy: 0.09\n",
      "Train Epoch: 48 / 100: 100%|██████████| 720/720 [00:01<00:00, 555.55it/s]\n",
      "Train Loss: 1.541900 | Validation Loss: 2.594442 | Train Accuracy: 0.54 | Validation Accuracy: 0.10\n",
      "Train Epoch: 49 / 100: 100%|██████████| 720/720 [00:01<00:00, 561.63it/s]\n",
      "Train Loss: 1.527828 | Validation Loss: 2.610944 | Train Accuracy: 0.55 | Validation Accuracy: 0.11\n",
      "Train Epoch: 50 / 100: 100%|██████████| 720/720 [00:01<00:00, 563.36it/s]\n",
      "Train Loss: 1.521561 | Validation Loss: 2.602501 | Train Accuracy: 0.53 | Validation Accuracy: 0.09\n",
      "Train Epoch: 51 / 100: 100%|██████████| 720/720 [00:01<00:00, 556.42it/s]\n",
      "Train Loss: 1.521762 | Validation Loss: 2.612552 | Train Accuracy: 0.53 | Validation Accuracy: 0.09\n",
      "Train Epoch: 52 / 100: 100%|██████████| 720/720 [00:01<00:00, 568.26it/s]\n",
      "Train Loss: 1.477854 | Validation Loss: 2.628760 | Train Accuracy: 0.57 | Validation Accuracy: 0.08\n",
      "Train Epoch: 53 / 100: 100%|██████████| 720/720 [00:01<00:00, 489.12it/s]\n",
      "Train Loss: 1.465416 | Validation Loss: 2.626197 | Train Accuracy: 0.57 | Validation Accuracy: 0.09\n",
      "Train Epoch: 54 / 100: 100%|██████████| 720/720 [00:01<00:00, 568.26it/s]\n",
      "Train Loss: 1.454244 | Validation Loss: 2.625366 | Train Accuracy: 0.58 | Validation Accuracy: 0.09\n",
      "Train Epoch: 55 / 100: 100%|██████████| 720/720 [00:01<00:00, 577.38it/s]\n",
      "Train Loss: 1.473347 | Validation Loss: 2.637619 | Train Accuracy: 0.57 | Validation Accuracy: 0.09\n",
      "Train Epoch: 56 / 100: 100%|██████████| 720/720 [00:01<00:00, 573.00it/s]\n",
      "Train Loss: 1.421624 | Validation Loss: 2.645286 | Train Accuracy: 0.58 | Validation Accuracy: 0.11\n",
      "Train Epoch: 57 / 100: 100%|██████████| 720/720 [00:01<00:00, 574.82it/s]\n",
      "Train Loss: 1.420926 | Validation Loss: 2.668388 | Train Accuracy: 0.57 | Validation Accuracy: 0.11\n",
      "Train Epoch: 58 / 100: 100%|██████████| 720/720 [00:01<00:00, 570.97it/s]\n",
      "Train Loss: 1.401886 | Validation Loss: 2.666836 | Train Accuracy: 0.58 | Validation Accuracy: 0.09\n",
      "Train Epoch: 59 / 100: 100%|██████████| 720/720 [00:01<00:00, 560.95it/s]\n",
      "Train Loss: 1.383594 | Validation Loss: 2.666973 | Train Accuracy: 0.62 | Validation Accuracy: 0.09\n",
      "Train Epoch: 60 / 100: 100%|██████████| 720/720 [00:01<00:00, 579.71it/s]\n",
      "Train Loss: 1.357951 | Validation Loss: 2.675617 | Train Accuracy: 0.59 | Validation Accuracy: 0.11\n",
      "Train Epoch: 61 / 100: 100%|██████████| 720/720 [00:01<00:00, 574.12it/s]\n",
      "Train Loss: 1.361661 | Validation Loss: 2.684978 | Train Accuracy: 0.61 | Validation Accuracy: 0.11\n",
      "Train Epoch: 62 / 100: 100%|██████████| 720/720 [00:01<00:00, 571.44it/s]\n",
      "Train Loss: 1.334767 | Validation Loss: 2.687403 | Train Accuracy: 0.62 | Validation Accuracy: 0.09\n",
      "Train Epoch: 63 / 100: 100%|██████████| 720/720 [00:01<00:00, 575.05it/s]\n",
      "Train Loss: 1.324427 | Validation Loss: 2.717906 | Train Accuracy: 0.61 | Validation Accuracy: 0.10\n",
      "Train Epoch: 64 / 100: 100%|██████████| 720/720 [00:01<00:00, 539.32it/s]\n",
      "Train Loss: 1.296315 | Validation Loss: 2.709342 | Train Accuracy: 0.62 | Validation Accuracy: 0.10\n",
      "Train Epoch: 65 / 100: 100%|██████████| 720/720 [00:01<00:00, 493.83it/s]\n",
      "Train Loss: 1.290050 | Validation Loss: 2.716774 | Train Accuracy: 0.63 | Validation Accuracy: 0.11\n",
      "Train Epoch: 66 / 100: 100%|██████████| 720/720 [00:01<00:00, 568.72it/s]\n",
      "Train Loss: 1.280882 | Validation Loss: 2.721648 | Train Accuracy: 0.64 | Validation Accuracy: 0.09\n",
      "Train Epoch: 67 / 100: 100%|██████████| 720/720 [00:01<00:00, 558.84it/s]\n",
      "Train Loss: 1.257562 | Validation Loss: 2.733388 | Train Accuracy: 0.64 | Validation Accuracy: 0.09\n",
      "Train Epoch: 68 / 100: 100%|██████████| 720/720 [00:01<00:00, 565.14it/s]\n",
      "Train Loss: 1.247362 | Validation Loss: 2.748261 | Train Accuracy: 0.67 | Validation Accuracy: 0.10\n",
      "Train Epoch: 69 / 100: 100%|██████████| 720/720 [00:01<00:00, 580.63it/s]\n",
      "Train Loss: 1.239491 | Validation Loss: 2.753433 | Train Accuracy: 0.65 | Validation Accuracy: 0.09\n",
      "Train Epoch: 70 / 100: 100%|██████████| 720/720 [00:01<00:00, 578.30it/s]\n",
      "Train Loss: 1.234380 | Validation Loss: 2.754696 | Train Accuracy: 0.65 | Validation Accuracy: 0.11\n",
      "Train Epoch: 71 / 100: 100%|██████████| 720/720 [00:01<00:00, 572.33it/s]\n",
      "Train Loss: 1.222829 | Validation Loss: 2.769647 | Train Accuracy: 0.66 | Validation Accuracy: 0.09\n",
      "Train Epoch: 72 / 100: 100%|██████████| 720/720 [00:01<00:00, 578.77it/s]\n",
      "Train Loss: 1.227525 | Validation Loss: 2.776140 | Train Accuracy: 0.65 | Validation Accuracy: 0.10\n",
      "Train Epoch: 73 / 100: 100%|██████████| 720/720 [00:01<00:00, 579.23it/s]\n",
      "Train Loss: 1.182949 | Validation Loss: 2.778977 | Train Accuracy: 0.67 | Validation Accuracy: 0.11\n",
      "Train Epoch: 74 / 100: 100%|██████████| 720/720 [00:01<00:00, 568.98it/s]\n",
      "Train Loss: 1.173323 | Validation Loss: 2.797616 | Train Accuracy: 0.69 | Validation Accuracy: 0.09\n",
      "Train Epoch: 75 / 100: 100%|██████████| 720/720 [00:01<00:00, 569.18it/s]\n",
      "Train Loss: 1.164596 | Validation Loss: 2.797577 | Train Accuracy: 0.68 | Validation Accuracy: 0.09\n",
      "Train Epoch: 76 / 100: 100%|██████████| 720/720 [00:01<00:00, 553.41it/s]\n",
      "Train Loss: 1.156143 | Validation Loss: 2.792701 | Train Accuracy: 0.68 | Validation Accuracy: 0.09\n",
      "Train Epoch: 77 / 100: 100%|██████████| 720/720 [00:01<00:00, 586.99it/s]\n",
      "Train Loss: 1.149433 | Validation Loss: 2.806173 | Train Accuracy: 0.68 | Validation Accuracy: 0.11\n",
      "Train Epoch: 78 / 100: 100%|██████████| 720/720 [00:01<00:00, 586.32it/s]\n",
      "Train Loss: 1.097320 | Validation Loss: 2.827016 | Train Accuracy: 0.72 | Validation Accuracy: 0.10\n",
      "Train Epoch: 79 / 100: 100%|██████████| 720/720 [00:01<00:00, 538.11it/s]\n",
      "Train Loss: 1.100402 | Validation Loss: 2.822638 | Train Accuracy: 0.72 | Validation Accuracy: 0.11\n",
      "Train Epoch: 80 / 100: 100%|██████████| 720/720 [00:01<00:00, 528.62it/s]\n",
      "Train Loss: 1.091561 | Validation Loss: 2.853635 | Train Accuracy: 0.70 | Validation Accuracy: 0.10\n",
      "Train Epoch: 81 / 100: 100%|██████████| 720/720 [00:01<00:00, 542.17it/s]\n",
      "Train Loss: 1.076271 | Validation Loss: 2.853185 | Train Accuracy: 0.70 | Validation Accuracy: 0.11\n",
      "Train Epoch: 82 / 100: 100%|██████████| 720/720 [00:01<00:00, 557.71it/s]\n",
      "Train Loss: 1.045388 | Validation Loss: 2.858099 | Train Accuracy: 0.73 | Validation Accuracy: 0.11\n",
      "Train Epoch: 83 / 100: 100%|██████████| 720/720 [00:01<00:00, 516.88it/s]\n",
      "Train Loss: 1.056414 | Validation Loss: 2.886557 | Train Accuracy: 0.70 | Validation Accuracy: 0.11\n",
      "Train Epoch: 84 / 100: 100%|██████████| 720/720 [00:01<00:00, 538.53it/s]\n",
      "Train Loss: 1.056806 | Validation Loss: 2.861133 | Train Accuracy: 0.71 | Validation Accuracy: 0.11\n",
      "Train Epoch: 85 / 100: 100%|██████████| 720/720 [00:01<00:00, 544.63it/s]\n",
      "Train Loss: 1.020069 | Validation Loss: 2.892927 | Train Accuracy: 0.75 | Validation Accuracy: 0.11\n",
      "Train Epoch: 86 / 100: 100%|██████████| 720/720 [00:01<00:00, 539.33it/s]\n",
      "Train Loss: 0.996615 | Validation Loss: 2.902850 | Train Accuracy: 0.74 | Validation Accuracy: 0.11\n",
      "Train Epoch: 87 / 100: 100%|██████████| 720/720 [00:01<00:00, 564.26it/s]\n",
      "Train Loss: 1.019249 | Validation Loss: 2.916360 | Train Accuracy: 0.72 | Validation Accuracy: 0.10\n",
      "Train Epoch: 88 / 100: 100%|██████████| 720/720 [00:01<00:00, 569.17it/s]\n",
      "Train Loss: 0.988058 | Validation Loss: 2.912619 | Train Accuracy: 0.74 | Validation Accuracy: 0.11\n",
      "Train Epoch: 89 / 100: 100%|██████████| 720/720 [00:01<00:00, 523.26it/s]\n",
      "Train Loss: 0.961251 | Validation Loss: 2.908353 | Train Accuracy: 0.75 | Validation Accuracy: 0.11\n",
      "Train Epoch: 90 / 100: 100%|██████████| 720/720 [00:01<00:00, 566.93it/s]\n",
      "Train Loss: 0.942081 | Validation Loss: 2.937781 | Train Accuracy: 0.76 | Validation Accuracy: 0.11\n",
      "Train Epoch: 91 / 100: 100%|██████████| 720/720 [00:01<00:00, 536.70it/s]\n",
      "Train Loss: 0.942976 | Validation Loss: 2.949393 | Train Accuracy: 0.75 | Validation Accuracy: 0.11\n",
      "Train Epoch: 92 / 100: 100%|██████████| 720/720 [00:01<00:00, 580.17it/s]\n",
      "Train Loss: 0.930157 | Validation Loss: 2.953780 | Train Accuracy: 0.77 | Validation Accuracy: 0.12\n",
      "Train Epoch: 93 / 100: 100%|██████████| 720/720 [00:01<00:00, 541.75it/s]\n",
      "Train Loss: 0.936142 | Validation Loss: 2.963354 | Train Accuracy: 0.76 | Validation Accuracy: 0.11\n",
      "Train Epoch: 94 / 100: 100%|██████████| 720/720 [00:01<00:00, 544.21it/s]\n",
      "Train Loss: 0.905141 | Validation Loss: 2.986302 | Train Accuracy: 0.77 | Validation Accuracy: 0.12\n"
     ]
    },
    {
     "name": "stderr",
     "output_type": "stream",
     "text": [
      "Train Epoch: 95 / 100: 100%|██████████| 720/720 [00:01<00:00, 580.19it/s]\n",
      "Train Loss: 0.910006 | Validation Loss: 2.954884 | Train Accuracy: 0.77 | Validation Accuracy: 0.11\n",
      "Train Epoch: 96 / 100: 100%|██████████| 720/720 [00:01<00:00, 569.12it/s]\n",
      "Train Loss: 0.894800 | Validation Loss: 2.975149 | Train Accuracy: 0.76 | Validation Accuracy: 0.12\n",
      "Train Epoch: 97 / 100: 100%|██████████| 720/720 [00:01<00:00, 579.25it/s]\n",
      "Train Loss: 0.883497 | Validation Loss: 3.004430 | Train Accuracy: 0.77 | Validation Accuracy: 0.11\n",
      "Train Epoch: 98 / 100: 100%|██████████| 720/720 [00:01<00:00, 580.18it/s]\n",
      "Train Loss: 0.889735 | Validation Loss: 2.993687 | Train Accuracy: 0.78 | Validation Accuracy: 0.12\n",
      "Train Epoch: 99 / 100: 100%|██████████| 720/720 [00:01<00:00, 583.00it/s]\n",
      "Train Loss: 0.836881 | Validation Loss: 3.027171 | Train Accuracy: 0.79 | Validation Accuracy: 0.11\n",
      "Train Epoch: 100 / 100: 100%|██████████| 720/720 [00:01<00:00, 552.57it/s]\n",
      "Train Loss: 0.826667 | Validation Loss: 3.027864 | Train Accuracy: 0.81 | Validation Accuracy: 0.11\n"
     ]
    },
    {
     "name": "stdout",
     "output_type": "stream",
     "text": [
      "Test Loss is :  2.9758628010749817\n",
      "Accuracy of the network on the 240 test images: 11.67 %\n"
     ]
    },
    {
     "data": {
      "image/png": "[encoded data removed]",
      "text/plain": [
       "<Figure size 1440x360 with 2 Axes>"
      ]
     },
     "metadata": {},
     "output_type": "display_data"
    },
    {
     "name": "stdout",
     "output_type": "stream",
     "text": [
      "confusion_matrix : \n"
     ]
    },
    {
     "data": {
      "image/png": "[encoded data removed]",
      "text/plain": [
       "<Figure size 432x288 with 1 Axes>"
      ]
     },
     "metadata": {},
     "output_type": "display_data"
    },
    {
     "name": "stdout",
     "output_type": "stream",
     "text": [
      "classification_report : \n",
      "              precision    recall  f1-score   support\n",
      "\n",
      "           0       0.14      0.20      0.16        20\n",
      "           1       0.00      0.00      0.00        20\n",
      "           2       0.10      0.10      0.10        20\n",
      "           3       0.21      0.19      0.20        26\n",
      "           4       0.05      0.04      0.05        23\n",
      "           5       0.07      0.08      0.08        25\n",
      "           6       0.09      0.17      0.12        24\n",
      "           7       0.27      0.11      0.16        27\n",
      "           8       0.22      0.07      0.11        27\n",
      "           9       0.18      0.18      0.18        28\n",
      "\n",
      "    accuracy                           0.12       240\n",
      "   macro avg       0.13      0.11      0.12       240\n",
      "weighted avg       0.14      0.12      0.12       240\n",
      "\n"
     ]
    }
   ],
   "source": [
    "main(data_path,train_size, train_batch_size, val_batch_size, shuffle,no_of_layers, input_dim, neurons_per_layer, dropout, criterion, LR, N_EPOCHS, is_training, Visualize_Results)"
   ]
  },
  {
   "cell_type": "code",
   "execution_count": null,
   "metadata": {},
   "outputs": [],
   "source": []
  },
  {
   "cell_type": "code",
   "execution_count": null,
   "metadata": {},
   "outputs": [],
   "source": []
  }
 ],
 "metadata": {
  "kernelspec": {
   "display_name": "Python 3",
   "language": "python",
   "name": "python3"
  },
  "language_info": {
   "codemirror_mode": {
    "name": "ipython",
    "version": 3
   },
   "file_extension": ".py",
   "mimetype": "text/x-python",
   "name": "python",
   "nbconvert_exporter": "python",
   "pygments_lexer": "ipython3",
   "version": "3.8.5"
  }
 },
 "nbformat": 4,
 "nbformat_minor": 4
}
